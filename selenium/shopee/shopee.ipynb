{
 "cells": [
  {
   "cell_type": "code",
   "execution_count": 63,
   "id": "71ba24c5-3b62-4f09-b7f8-dccf2a36d25c",
   "metadata": {
    "tags": []
   },
   "outputs": [],
   "source": [
    "from selenium import webdriver\n",
    "from selenium.webdriver.common.by import By\n",
    "import time\n",
    "import bs4"
   ]
  },
  {
   "cell_type": "code",
   "execution_count": 64,
   "id": "abda96fb-adaa-4df5-b4f2-93a3ab406ced",
   "metadata": {
    "tags": []
   },
   "outputs": [
    {
     "name": "stderr",
     "output_type": "stream",
     "text": [
      "/var/folders/vn/wlj2mvdd6xz_pk3hgk03sgh40000gn/T/ipykernel_76896/3925886788.py:1: DeprecationWarning: executable_path has been deprecated, please pass in a Service object\n",
      "  driver = webdriver.Chrome(executable_path=r'\\Users\\wareewanpongpunchaikul\\Desktop\\chromedriver_mac_arm64\\chromedriver')\n"
     ]
    }
   ],
   "source": [
    "driver = webdriver.Chrome(executable_path=r'\\Users\\wareewanpongpunchaikul\\Desktop\\chromedriver_mac_arm64\\chromedriver')\n",
    "driver.get('https://shopee.co.th')"
   ]
  },
  {
   "cell_type": "code",
   "execution_count": 65,
   "id": "f8694712-280b-477b-9c97-d846e6c204c9",
   "metadata": {
    "tags": []
   },
   "outputs": [],
   "source": [
    "# pop-up shopee\n",
    "thai_button = driver.find_element(By.XPATH, '/html/body/div[2]/div[1]/div[1]/div/div[3]/div[1]/button')\n",
    "thai_button.click()"
   ]
  },
  {
   "cell_type": "code",
   "execution_count": 66,
   "id": "54ca46b6-f568-4ac6-9539-76b242bb61c0",
   "metadata": {
    "tags": []
   },
   "outputs": [],
   "source": [
    "close_button = driver.execute_script(\n",
    "    'return document.querySelector(\"shopee-banner-popup-stateful\").shadowRoot.querySelector(\"div.shopee-popup__close-btn\")')\n",
    "close_button.click()"
   ]
  },
  {
   "cell_type": "code",
   "execution_count": 67,
   "id": "254d92e6",
   "metadata": {},
   "outputs": [],
   "source": [
    "time.sleep(5)"
   ]
  },
  {
   "cell_type": "code",
   "execution_count": 86,
   "id": "c05ae920",
   "metadata": {},
   "outputs": [],
   "source": [
    "firstpage = driver.find_elements(By.XPATH,'/html/body/div[1]/div/div[2]/div/div/div[3]/div[2]')\n",
    "firstpage = driver.page_source"
   ]
  },
  {
   "cell_type": "code",
   "execution_count": 87,
   "id": "dbc39f5e",
   "metadata": {},
   "outputs": [],
   "source": [
    "soup = bs4.BeautifulSoup(firstpage)"
   ]
  },
  {
   "cell_type": "code",
   "execution_count": 88,
   "id": "135d54d1",
   "metadata": {},
   "outputs": [],
   "source": [
    "product_names = soup.find_all(\"div\",class_=\"WSS36c V2HAG1\")"
   ]
  },
  {
   "cell_type": "code",
   "execution_count": 90,
   "id": "5cba4e6c",
   "metadata": {},
   "outputs": [],
   "source": [
    "price_products = soup.find_all(\"div\",class_=\"rFVivR i2AHh8\")"
   ]
  },
  {
   "cell_type": "code",
   "execution_count": 91,
   "id": "df4bb8a6",
   "metadata": {},
   "outputs": [],
   "source": [
    "sale_products = soup.find_all(\"div\",class_=\"YqXPle fVGgj5\")"
   ]
  },
  {
   "cell_type": "code",
   "execution_count": 92,
   "id": "44972ce9",
   "metadata": {},
   "outputs": [],
   "source": [
    "class alldata():\n",
    "    def getnames():\n",
    "        list_getname = []\n",
    "        for product_name in product_names:\n",
    "            text = product_name.text\n",
    "            list_getname.append(text)\n",
    "        return list_getname\n",
    "    def getprices():\n",
    "        list_getprice = []\n",
    "        for price_product in price_products:\n",
    "            text = price_product.text\n",
    "            list_getprice.append(text)\n",
    "        return list_getprice\n",
    "    def getsales():\n",
    "        list_getsale = []\n",
    "        for sale_product in sale_products:\n",
    "            text = sale_product.text\n",
    "            list_getsale.append(text)\n",
    "        return list_getsale"
   ]
  }
 ],
 "metadata": {
  "kernelspec": {
   "display_name": "Python 3 (ipykernel)",
   "language": "python",
   "name": "python3"
  },
  "language_info": {
   "codemirror_mode": {
    "name": "ipython",
    "version": 3
   },
   "file_extension": ".py",
   "mimetype": "text/x-python",
   "name": "python",
   "nbconvert_exporter": "python",
   "pygments_lexer": "ipython3",
   "version": "3.11.1"
  }
 },
 "nbformat": 4,
 "nbformat_minor": 5
}
