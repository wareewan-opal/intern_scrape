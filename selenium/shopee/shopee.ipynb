{
 "cells": [
  {
   "cell_type": "code",
   "execution_count": 63,
   "id": "71ba24c5-3b62-4f09-b7f8-dccf2a36d25c",
   "metadata": {
    "tags": []
   },
   "outputs": [],
   "source": [
    "from selenium import webdriver\n",
    "from selenium.webdriver.common.by import By\n",
    "import time\n",
    "import bs4"
   ]
  },
  {
   "cell_type": "code",
   "execution_count": 64,
   "id": "abda96fb-adaa-4df5-b4f2-93a3ab406ced",
   "metadata": {
    "tags": []
   },
   "outputs": [
    {
     "name": "stderr",
     "output_type": "stream",
     "text": [
      "/var/folders/vn/wlj2mvdd6xz_pk3hgk03sgh40000gn/T/ipykernel_76896/3925886788.py:1: DeprecationWarning: executable_path has been deprecated, please pass in a Service object\n",
      "  driver = webdriver.Chrome(executable_path=r'\\Users\\wareewanpongpunchaikul\\Desktop\\chromedriver_mac_arm64\\chromedriver')\n"
     ]
    }
   ],
   "source": [
    "driver = webdriver.Chrome(executable_path=r'\\Users\\wareewanpongpunchaikul\\Desktop\\chromedriver_mac_arm64\\chromedriver')\n",
    "driver.get('https://shopee.co.th')"
   ]
  },
  {
   "cell_type": "code",
   "execution_count": 65,
   "id": "f8694712-280b-477b-9c97-d846e6c204c9",
   "metadata": {
    "tags": []
   },
   "outputs": [],
   "source": [
    "# pop-up shopee\n",
    "thai_button = driver.find_element(By.XPATH, '/html/body/div[2]/div[1]/div[1]/div/div[3]/div[1]/button')\n",
    "thai_button.click()"
   ]
  },
  {
   "cell_type": "code",
   "execution_count": 66,
   "id": "54ca46b6-f568-4ac6-9539-76b242bb61c0",
   "metadata": {
    "tags": []
   },
   "outputs": [],
   "source": [
    "close_button = driver.execute_script(\n",
    "    'return document.querySelector(\"shopee-banner-popup-stateful\").shadowRoot.querySelector(\"div.shopee-popup__close-btn\")')\n",
    "close_button.click()"
   ]
  },
  {
   "cell_type": "code",
   "execution_count": 67,
   "id": "254d92e6",
   "metadata": {},
   "outputs": [],
   "source": [
    "time.sleep(5)"
   ]
  },
  {
   "cell_type": "code",
   "execution_count": 86,
   "id": "c05ae920",
   "metadata": {},
   "outputs": [],
   "source": [
    "firstpage = driver.find_elements(By.XPATH,'/html/body/div[1]/div/div[2]/div/div/div[3]/div[2]')\n",
    "firstpage = driver.page_source"
   ]
  },
  {
   "cell_type": "code",
   "execution_count": 87,
   "id": "dbc39f5e",
   "metadata": {},
   "outputs": [],
   "source": [
    "soup = bs4.BeautifulSoup(firstpage)"
   ]
  },
  {
   "cell_type": "code",
   "execution_count": 88,
   "id": "135d54d1",
   "metadata": {},
   "outputs": [],
   "source": [
    "product_names = soup.find_all(\"div\",class_=\"WSS36c V2HAG1\")"
   ]
  },
  {
   "cell_type": "code",
   "execution_count": 90,
   "id": "5cba4e6c",
   "metadata": {},
   "outputs": [],
   "source": [
    "price_products = soup.find_all(\"div\",class_=\"rFVivR i2AHh8\")"
   ]
  },
  {
   "cell_type": "code",
   "execution_count": 91,
   "id": "df4bb8a6",
   "metadata": {},
   "outputs": [],
   "source": [
    "sale_products = soup.find_all(\"div\",class_=\"YqXPle fVGgj5\")"
   ]
  },
  {
   "cell_type": "code",
   "execution_count": 92,
   "id": "44972ce9",
   "metadata": {},
   "outputs": [],
   "source": [
    "class alldata():\n",
    "    def getnames():\n",
    "        list_getname = []\n",
    "        for product_name in product_names:\n",
    "            text = product_name.text\n",
    "            list_getname.append(text)\n",
    "        return list_getname\n",
    "    def getprices():\n",
    "        list_getprice = []\n",
    "        for price_product in price_products:\n",
    "            text = price_product.text\n",
    "            list_getprice.append(text)\n",
    "        return list_getprice\n",
    "    def getsales():\n",
    "        list_getsale = []\n",
    "        for sale_product in sale_products:\n",
    "            text = sale_product.text\n",
    "            list_getsale.append(text)\n",
    "        return list_getsale"
   ]
  },
  {
   "cell_type": "code",
   "execution_count": 75,
   "id": "76dfe18b",
   "metadata": {},
   "outputs": [],
   "source": [
    "import pandas as pd"
   ]
  },
  {
   "cell_type": "code",
   "execution_count": 93,
   "id": "05c6ae96",
   "metadata": {},
   "outputs": [
    {
     "data": {
      "text/html": [
       "<div>\n",
       "<style scoped>\n",
       "    .dataframe tbody tr th:only-of-type {\n",
       "        vertical-align: middle;\n",
       "    }\n",
       "\n",
       "    .dataframe tbody tr th {\n",
       "        vertical-align: top;\n",
       "    }\n",
       "\n",
       "    .dataframe thead th {\n",
       "        text-align: right;\n",
       "    }\n",
       "</style>\n",
       "<table border=\"1\" class=\"dataframe\">\n",
       "  <thead>\n",
       "    <tr style=\"text-align: right;\">\n",
       "      <th></th>\n",
       "      <th>0</th>\n",
       "      <th>1</th>\n",
       "      <th>2</th>\n",
       "      <th>3</th>\n",
       "      <th>4</th>\n",
       "      <th>5</th>\n",
       "      <th>6</th>\n",
       "      <th>7</th>\n",
       "      <th>8</th>\n",
       "      <th>9</th>\n",
       "      <th>10</th>\n",
       "      <th>11</th>\n",
       "      <th>12</th>\n",
       "      <th>13</th>\n",
       "      <th>14</th>\n",
       "      <th>15</th>\n",
       "      <th>16</th>\n",
       "      <th>17</th>\n",
       "    </tr>\n",
       "  </thead>\n",
       "  <tbody>\n",
       "    <tr>\n",
       "      <th>Product_Names</th>\n",
       "      <td>[ลูกค้าใหม่ 1 บาท] 22cm หม้อไฟฟ้าเอนกประสงค์ ท...</td>\n",
       "      <td>หูฟังบลูทูธไร้สาย สเตอริโอ เสียงชัด HD Voice T...</td>\n",
       "      <td>[ลูกค้าใหม่ 1฿/ใส่โค้ด 7BETS4 ลด 30฿] ชุดถังปั...</td>\n",
       "      <td>เก้าอี้ เก้าอี้สนาม เก้าอี้พับ เก้าอี้ปิคนิค พ...</td>\n",
       "      <td>(1แถม1) เซรั่มปรางทิพย์ โลชั่นปรางทิพย์ ราริต้...</td>\n",
       "      <td>พร้อมส่งจากไทย 🍒แก้วเก็บความเย็น TYESO แก้วเก็...</td>\n",
       "      <td>Kemei รุ่น KM-418 ปัตตาเลี่ยนไร้สาย โกนหนวด ตั...</td>\n",
       "      <td>มาม่า บะหมี่กึ่งสําเร็จรูป x 30 ซอง (ยกลัง)</td>\n",
       "      <td>[ 🔥 โค้ด BDTOO30 ลด 30 บาท  ] Ozoopu กาต้มน้ำไ...</td>\n",
       "      <td>[ลูกค้าใหม่1฿]HAN RIVER HRHD01BK ไดร์เป่าผม ขน...</td>\n",
       "      <td>Sunsilk Co-creation แชมพูซันซิล แพ็คคู่ (แชมพู...</td>\n",
       "      <td>ลูกค้าใหม่ 1.- กระดาษทิชชู่ ห่อยาว กระดาษทิชชู...</td>\n",
       "      <td>Silicone Anti-shock Wireless Earphone Full Pro...</td>\n",
       "      <td>SMARTHOME เตารีดไฟฟ้าแบบแห้ง รุ่น SDIR-009</td>\n",
       "      <td>แท้💯% Cosmic hair remover คอสมิค มูสกำจัดขนคอส...</td>\n",
       "      <td>ชั้นวางรองเท้า (XM1) ชั้นอเนกประสงค์ 4 ชั้น  ช...</td>\n",
       "      <td>[ใส่โค้ดSM9945 ลด45] ขั้นต่ำ300  22cm หม้อไฟฟ้...</td>\n",
       "      <td>สระเป่าลมสำหรับเด็ก สระเป่าลมสำหรับเด็ก สระว่า...</td>\n",
       "    </tr>\n",
       "    <tr>\n",
       "      <th>Product_Prices</th>\n",
       "      <td>฿147</td>\n",
       "      <td>฿135</td>\n",
       "      <td>฿59</td>\n",
       "      <td>฿193</td>\n",
       "      <td>฿180</td>\n",
       "      <td>฿149</td>\n",
       "      <td>฿159</td>\n",
       "      <td>฿220</td>\n",
       "      <td>฿119</td>\n",
       "      <td>฿179</td>\n",
       "      <td>฿159</td>\n",
       "      <td>฿88</td>\n",
       "      <td>฿1</td>\n",
       "      <td>฿219</td>\n",
       "      <td>฿179</td>\n",
       "      <td>฿199</td>\n",
       "      <td>฿140</td>\n",
       "      <td>฿98</td>\n",
       "    </tr>\n",
       "    <tr>\n",
       "      <th>Sale_Products</th>\n",
       "      <td>ขายแล้ว 2.8พัน ชิ้น</td>\n",
       "      <td>ขายแล้ว 15.1พัน ชิ้น</td>\n",
       "      <td>ขายแล้ว 3.9พัน ชิ้น</td>\n",
       "      <td>ขายแล้ว 17.8พัน ชิ้น</td>\n",
       "      <td>ขายแล้ว 2.3พัน ชิ้น</td>\n",
       "      <td>ขายแล้ว 2.4พัน ชิ้น</td>\n",
       "      <td>ขายแล้ว 4.2พัน ชิ้น</td>\n",
       "      <td>ขายแล้ว 5.1พัน ชิ้น</td>\n",
       "      <td>ขายแล้ว 7.4พัน ชิ้น</td>\n",
       "      <td>ขายแล้ว 29.2พัน ชิ้น</td>\n",
       "      <td>ขายแล้ว 1.7พัน ชิ้น</td>\n",
       "      <td>ขายแล้ว 8.9พัน ชิ้น</td>\n",
       "      <td>ขายแล้ว 9.1พัน ชิ้น</td>\n",
       "      <td>ขายแล้ว 1.2พัน ชิ้น</td>\n",
       "      <td>ขายแล้ว 17.3พัน ชิ้น</td>\n",
       "      <td>ขายแล้ว 754 ชิ้น</td>\n",
       "      <td>ขายแล้ว 2.4พัน ชิ้น</td>\n",
       "      <td>ขายแล้ว 468 ชิ้น</td>\n",
       "    </tr>\n",
       "  </tbody>\n",
       "</table>\n",
       "</div>"
      ],
      "text/plain": [
       "                                                               0   \\\n",
       "Product_Names   [ลูกค้าใหม่ 1 บาท] 22cm หม้อไฟฟ้าเอนกประสงค์ ท...   \n",
       "Product_Prices                                               ฿147   \n",
       "Sale_Products                                 ขายแล้ว 2.8พัน ชิ้น   \n",
       "\n",
       "                                                               1   \\\n",
       "Product_Names   หูฟังบลูทูธไร้สาย สเตอริโอ เสียงชัด HD Voice T...   \n",
       "Product_Prices                                               ฿135   \n",
       "Sale_Products                                ขายแล้ว 15.1พัน ชิ้น   \n",
       "\n",
       "                                                               2   \\\n",
       "Product_Names   [ลูกค้าใหม่ 1฿/ใส่โค้ด 7BETS4 ลด 30฿] ชุดถังปั...   \n",
       "Product_Prices                                                ฿59   \n",
       "Sale_Products                                 ขายแล้ว 3.9พัน ชิ้น   \n",
       "\n",
       "                                                               3   \\\n",
       "Product_Names   เก้าอี้ เก้าอี้สนาม เก้าอี้พับ เก้าอี้ปิคนิค พ...   \n",
       "Product_Prices                                               ฿193   \n",
       "Sale_Products                                ขายแล้ว 17.8พัน ชิ้น   \n",
       "\n",
       "                                                               4   \\\n",
       "Product_Names   (1แถม1) เซรั่มปรางทิพย์ โลชั่นปรางทิพย์ ราริต้...   \n",
       "Product_Prices                                               ฿180   \n",
       "Sale_Products                                 ขายแล้ว 2.3พัน ชิ้น   \n",
       "\n",
       "                                                               5   \\\n",
       "Product_Names   พร้อมส่งจากไทย 🍒แก้วเก็บความเย็น TYESO แก้วเก็...   \n",
       "Product_Prices                                               ฿149   \n",
       "Sale_Products                                 ขายแล้ว 2.4พัน ชิ้น   \n",
       "\n",
       "                                                               6   \\\n",
       "Product_Names   Kemei รุ่น KM-418 ปัตตาเลี่ยนไร้สาย โกนหนวด ตั...   \n",
       "Product_Prices                                               ฿159   \n",
       "Sale_Products                                 ขายแล้ว 4.2พัน ชิ้น   \n",
       "\n",
       "                                                         7   \\\n",
       "Product_Names   มาม่า บะหมี่กึ่งสําเร็จรูป x 30 ซอง (ยกลัง)   \n",
       "Product_Prices                                         ฿220   \n",
       "Sale_Products                           ขายแล้ว 5.1พัน ชิ้น   \n",
       "\n",
       "                                                               8   \\\n",
       "Product_Names   [ 🔥 โค้ด BDTOO30 ลด 30 บาท  ] Ozoopu กาต้มน้ำไ...   \n",
       "Product_Prices                                               ฿119   \n",
       "Sale_Products                                 ขายแล้ว 7.4พัน ชิ้น   \n",
       "\n",
       "                                                               9   \\\n",
       "Product_Names   [ลูกค้าใหม่1฿]HAN RIVER HRHD01BK ไดร์เป่าผม ขน...   \n",
       "Product_Prices                                               ฿179   \n",
       "Sale_Products                                ขายแล้ว 29.2พัน ชิ้น   \n",
       "\n",
       "                                                               10  \\\n",
       "Product_Names   Sunsilk Co-creation แชมพูซันซิล แพ็คคู่ (แชมพู...   \n",
       "Product_Prices                                               ฿159   \n",
       "Sale_Products                                 ขายแล้ว 1.7พัน ชิ้น   \n",
       "\n",
       "                                                               11  \\\n",
       "Product_Names   ลูกค้าใหม่ 1.- กระดาษทิชชู่ ห่อยาว กระดาษทิชชู...   \n",
       "Product_Prices                                                ฿88   \n",
       "Sale_Products                                 ขายแล้ว 8.9พัน ชิ้น   \n",
       "\n",
       "                                                               12  \\\n",
       "Product_Names   Silicone Anti-shock Wireless Earphone Full Pro...   \n",
       "Product_Prices                                                 ฿1   \n",
       "Sale_Products                                 ขายแล้ว 9.1พัน ชิ้น   \n",
       "\n",
       "                                                        13  \\\n",
       "Product_Names   SMARTHOME เตารีดไฟฟ้าแบบแห้ง รุ่น SDIR-009   \n",
       "Product_Prices                                        ฿219   \n",
       "Sale_Products                          ขายแล้ว 1.2พัน ชิ้น   \n",
       "\n",
       "                                                               14  \\\n",
       "Product_Names   แท้💯% Cosmic hair remover คอสมิค มูสกำจัดขนคอส...   \n",
       "Product_Prices                                               ฿179   \n",
       "Sale_Products                                ขายแล้ว 17.3พัน ชิ้น   \n",
       "\n",
       "                                                               15  \\\n",
       "Product_Names   ชั้นวางรองเท้า (XM1) ชั้นอเนกประสงค์ 4 ชั้น  ช...   \n",
       "Product_Prices                                               ฿199   \n",
       "Sale_Products                                    ขายแล้ว 754 ชิ้น   \n",
       "\n",
       "                                                               16  \\\n",
       "Product_Names   [ใส่โค้ดSM9945 ลด45] ขั้นต่ำ300  22cm หม้อไฟฟ้...   \n",
       "Product_Prices                                               ฿140   \n",
       "Sale_Products                                 ขายแล้ว 2.4พัน ชิ้น   \n",
       "\n",
       "                                                               17  \n",
       "Product_Names   สระเป่าลมสำหรับเด็ก สระเป่าลมสำหรับเด็ก สระว่า...  \n",
       "Product_Prices                                                ฿98  \n",
       "Sale_Products                                    ขายแล้ว 468 ชิ้น  "
      ]
     },
     "execution_count": 93,
     "metadata": {},
     "output_type": "execute_result"
    }
   ],
   "source": [
    "shopee_data = pd.DataFrame({'Product_Names': alldata.getnames(),\n",
    "                            'Product_Prices': alldata.getprices(),\n",
    "                            'Sale_Products':alldata.getsales()}\n",
    "                          )\n",
    "shopee_data.transpose()"
   ]
  },
  {
   "cell_type": "code",
   "execution_count": 94,
   "id": "a8a850e8",
   "metadata": {},
   "outputs": [],
   "source": [
    "shopee_data.to_csv('shopee_data.csv')"
   ]
  }
 ],
 "metadata": {
  "kernelspec": {
   "display_name": "Python 3 (ipykernel)",
   "language": "python",
   "name": "python3"
  },
  "language_info": {
   "codemirror_mode": {
    "name": "ipython",
    "version": 3
   },
   "file_extension": ".py",
   "mimetype": "text/x-python",
   "name": "python",
   "nbconvert_exporter": "python",
   "pygments_lexer": "ipython3",
   "version": "3.11.1"
  }
 },
 "nbformat": 4,
 "nbformat_minor": 5
}
